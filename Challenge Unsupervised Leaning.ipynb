{
 "cells": [
  {
   "cell_type": "code",
   "execution_count": 120,
   "metadata": {},
   "outputs": [],
   "source": [
    "import random \n",
    "import numpy as np \n",
    "import pandas as pd\n",
    "import matplotlib.pyplot as plt \n",
    "from sklearn.preprocessing import StandardScaler\n",
    "from IPython.display import display\n",
    "from sklearn.cluster import KMeans \n",
    "from sklearn.decomposition import PCA\n",
    "from mpl_toolkits.mplot3d import Axes3D\n",
    "from sklearn.metrics import homogeneity_score, completeness_score, \\\n",
    "v_measure_score, adjusted_rand_score, adjusted_mutual_info_score, silhouette_score\n",
    "%matplotlib inline\n",
    "\n",
    "np.random.seed(123)"
   ]
  },
  {
   "cell_type": "markdown",
   "metadata": {},
   "source": [
    "# Dataset info\n",
    "Human Activity Recognition database built from the recordings of 30 subjects performing activities of daily living (ADL) while carrying a waist-mounted smartphone with embedded inertial sensors. The experiments have been carried out with a group of 30 volunteers within an age bracket of 19-48 years. Each person performed six activities (WALKING, WALKING_UPSTAIRS, WALKING_DOWNSTAIRS, SITTING, STANDING, LAYING) wearing a smartphone (Samsung Galaxy S II) on the waist. Using its embedded accelerometer and gyroscope, we captured 3-axial linear acceleration and 3-axial angular velocity at a constant rate of 50Hz. The experiments have been video-recorded to label the data manually."
   ]
  },
  {
   "cell_type": "code",
   "execution_count": 121,
   "metadata": {},
   "outputs": [],
   "source": [
    "Data1 = pd.read_csv('train.csv') "
   ]
  },
  {
   "cell_type": "code",
   "execution_count": 122,
   "metadata": {},
   "outputs": [
    {
     "data": {
      "text/html": [
       "<div>\n",
       "<style scoped>\n",
       "    .dataframe tbody tr th:only-of-type {\n",
       "        vertical-align: middle;\n",
       "    }\n",
       "\n",
       "    .dataframe tbody tr th {\n",
       "        vertical-align: top;\n",
       "    }\n",
       "\n",
       "    .dataframe thead th {\n",
       "        text-align: right;\n",
       "    }\n",
       "</style>\n",
       "<table border=\"1\" class=\"dataframe\">\n",
       "  <thead>\n",
       "    <tr style=\"text-align: right;\">\n",
       "      <th></th>\n",
       "      <th>rn</th>\n",
       "      <th>activity</th>\n",
       "      <th>tBodyAcc.mean.X</th>\n",
       "      <th>tBodyAcc.mean.Y</th>\n",
       "      <th>tBodyAcc.mean.Z</th>\n",
       "      <th>tBodyAcc.std.X</th>\n",
       "      <th>tBodyAcc.std.Y</th>\n",
       "      <th>tBodyAcc.std.Z</th>\n",
       "      <th>tBodyAcc.mad.X</th>\n",
       "      <th>tBodyAcc.mad.Y</th>\n",
       "      <th>...</th>\n",
       "      <th>fBodyBodyGyroJerkMag.meanFreq</th>\n",
       "      <th>fBodyBodyGyroJerkMag.skewness</th>\n",
       "      <th>fBodyBodyGyroJerkMag.kurtosis</th>\n",
       "      <th>angle.tBodyAccMean.gravity</th>\n",
       "      <th>angle.tBodyAccJerkMean.gravityMean</th>\n",
       "      <th>angle.tBodyGyroMean.gravityMean</th>\n",
       "      <th>angle.tBodyGyroJerkMean.gravityMean</th>\n",
       "      <th>angle.X.gravityMean</th>\n",
       "      <th>angle.Y.gravityMean</th>\n",
       "      <th>angle.Z.gravityMean</th>\n",
       "    </tr>\n",
       "  </thead>\n",
       "  <tbody>\n",
       "    <tr>\n",
       "      <th>3599</th>\n",
       "      <td>10262</td>\n",
       "      <td>WALKING_UPSTAIRS</td>\n",
       "      <td>0.260</td>\n",
       "      <td>-0.03080</td>\n",
       "      <td>-0.0957</td>\n",
       "      <td>-0.3110</td>\n",
       "      <td>-0.1920</td>\n",
       "      <td>-0.254</td>\n",
       "      <td>-0.402</td>\n",
       "      <td>-0.2250</td>\n",
       "      <td>...</td>\n",
       "      <td>0.1190</td>\n",
       "      <td>-0.0312</td>\n",
       "      <td>-0.4030</td>\n",
       "      <td>0.2030</td>\n",
       "      <td>0.9010</td>\n",
       "      <td>-0.936</td>\n",
       "      <td>0.4900</td>\n",
       "      <td>-0.693</td>\n",
       "      <td>0.255</td>\n",
       "      <td>0.165</td>\n",
       "    </tr>\n",
       "    <tr>\n",
       "      <th>3600</th>\n",
       "      <td>10264</td>\n",
       "      <td>WALKING_UPSTAIRS</td>\n",
       "      <td>0.364</td>\n",
       "      <td>-0.06570</td>\n",
       "      <td>-0.0854</td>\n",
       "      <td>-0.3590</td>\n",
       "      <td>-0.1130</td>\n",
       "      <td>-0.318</td>\n",
       "      <td>-0.405</td>\n",
       "      <td>-0.1860</td>\n",
       "      <td>...</td>\n",
       "      <td>0.2070</td>\n",
       "      <td>-0.3730</td>\n",
       "      <td>-0.7490</td>\n",
       "      <td>-0.4750</td>\n",
       "      <td>-0.0585</td>\n",
       "      <td>-0.948</td>\n",
       "      <td>0.7880</td>\n",
       "      <td>-0.683</td>\n",
       "      <td>0.272</td>\n",
       "      <td>0.153</td>\n",
       "    </tr>\n",
       "    <tr>\n",
       "      <th>3601</th>\n",
       "      <td>10265</td>\n",
       "      <td>WALKING_UPSTAIRS</td>\n",
       "      <td>0.315</td>\n",
       "      <td>0.02320</td>\n",
       "      <td>-0.1440</td>\n",
       "      <td>-0.3100</td>\n",
       "      <td>-0.1580</td>\n",
       "      <td>-0.326</td>\n",
       "      <td>-0.379</td>\n",
       "      <td>-0.2140</td>\n",
       "      <td>...</td>\n",
       "      <td>0.2300</td>\n",
       "      <td>-0.5230</td>\n",
       "      <td>-0.8440</td>\n",
       "      <td>-0.0873</td>\n",
       "      <td>-0.5530</td>\n",
       "      <td>-0.830</td>\n",
       "      <td>0.7010</td>\n",
       "      <td>-0.666</td>\n",
       "      <td>0.288</td>\n",
       "      <td>0.151</td>\n",
       "    </tr>\n",
       "    <tr>\n",
       "      <th>3602</th>\n",
       "      <td>10268</td>\n",
       "      <td>WALKING_UPSTAIRS</td>\n",
       "      <td>0.302</td>\n",
       "      <td>0.00926</td>\n",
       "      <td>-0.1630</td>\n",
       "      <td>-0.3310</td>\n",
       "      <td>-0.0371</td>\n",
       "      <td>-0.245</td>\n",
       "      <td>-0.391</td>\n",
       "      <td>-0.0685</td>\n",
       "      <td>...</td>\n",
       "      <td>-0.1350</td>\n",
       "      <td>-0.3180</td>\n",
       "      <td>-0.6800</td>\n",
       "      <td>-0.1370</td>\n",
       "      <td>0.8100</td>\n",
       "      <td>0.932</td>\n",
       "      <td>0.3550</td>\n",
       "      <td>-0.659</td>\n",
       "      <td>0.274</td>\n",
       "      <td>0.178</td>\n",
       "    </tr>\n",
       "    <tr>\n",
       "      <th>3603</th>\n",
       "      <td>10274</td>\n",
       "      <td>WALKING_UPSTAIRS</td>\n",
       "      <td>0.144</td>\n",
       "      <td>-0.03990</td>\n",
       "      <td>-0.0451</td>\n",
       "      <td>-0.3550</td>\n",
       "      <td>-0.0158</td>\n",
       "      <td>-0.233</td>\n",
       "      <td>-0.465</td>\n",
       "      <td>-0.0364</td>\n",
       "      <td>...</td>\n",
       "      <td>-0.1440</td>\n",
       "      <td>-0.3750</td>\n",
       "      <td>-0.7800</td>\n",
       "      <td>0.5560</td>\n",
       "      <td>-0.2060</td>\n",
       "      <td>-0.944</td>\n",
       "      <td>0.2980</td>\n",
       "      <td>-0.661</td>\n",
       "      <td>0.271</td>\n",
       "      <td>0.180</td>\n",
       "    </tr>\n",
       "    <tr>\n",
       "      <th>3604</th>\n",
       "      <td>10277</td>\n",
       "      <td>WALKING_UPSTAIRS</td>\n",
       "      <td>0.357</td>\n",
       "      <td>-0.04460</td>\n",
       "      <td>-0.1300</td>\n",
       "      <td>-0.3140</td>\n",
       "      <td>-0.0556</td>\n",
       "      <td>-0.173</td>\n",
       "      <td>-0.386</td>\n",
       "      <td>-0.0575</td>\n",
       "      <td>...</td>\n",
       "      <td>0.0168</td>\n",
       "      <td>-0.1630</td>\n",
       "      <td>-0.5930</td>\n",
       "      <td>-0.7110</td>\n",
       "      <td>-0.0612</td>\n",
       "      <td>-0.706</td>\n",
       "      <td>0.0646</td>\n",
       "      <td>-0.660</td>\n",
       "      <td>0.274</td>\n",
       "      <td>0.176</td>\n",
       "    </tr>\n",
       "    <tr>\n",
       "      <th>3605</th>\n",
       "      <td>10278</td>\n",
       "      <td>WALKING_UPSTAIRS</td>\n",
       "      <td>0.344</td>\n",
       "      <td>0.00479</td>\n",
       "      <td>-0.1220</td>\n",
       "      <td>-0.3200</td>\n",
       "      <td>-0.0667</td>\n",
       "      <td>-0.182</td>\n",
       "      <td>-0.380</td>\n",
       "      <td>-0.0710</td>\n",
       "      <td>...</td>\n",
       "      <td>-0.0292</td>\n",
       "      <td>0.1810</td>\n",
       "      <td>-0.2500</td>\n",
       "      <td>-0.4030</td>\n",
       "      <td>-0.7060</td>\n",
       "      <td>0.739</td>\n",
       "      <td>0.8710</td>\n",
       "      <td>-0.653</td>\n",
       "      <td>0.278</td>\n",
       "      <td>0.180</td>\n",
       "    </tr>\n",
       "    <tr>\n",
       "      <th>3606</th>\n",
       "      <td>10279</td>\n",
       "      <td>WALKING_UPSTAIRS</td>\n",
       "      <td>0.284</td>\n",
       "      <td>-0.00796</td>\n",
       "      <td>-0.1190</td>\n",
       "      <td>-0.3090</td>\n",
       "      <td>-0.0804</td>\n",
       "      <td>-0.211</td>\n",
       "      <td>-0.369</td>\n",
       "      <td>-0.0971</td>\n",
       "      <td>...</td>\n",
       "      <td>-0.1100</td>\n",
       "      <td>0.0245</td>\n",
       "      <td>-0.3930</td>\n",
       "      <td>-0.0761</td>\n",
       "      <td>-0.2390</td>\n",
       "      <td>0.960</td>\n",
       "      <td>0.0866</td>\n",
       "      <td>-0.657</td>\n",
       "      <td>0.272</td>\n",
       "      <td>0.183</td>\n",
       "    </tr>\n",
       "    <tr>\n",
       "      <th>3607</th>\n",
       "      <td>10280</td>\n",
       "      <td>WALKING_UPSTAIRS</td>\n",
       "      <td>0.207</td>\n",
       "      <td>0.02460</td>\n",
       "      <td>-0.1040</td>\n",
       "      <td>-0.3650</td>\n",
       "      <td>-0.1690</td>\n",
       "      <td>-0.216</td>\n",
       "      <td>-0.449</td>\n",
       "      <td>-0.1860</td>\n",
       "      <td>...</td>\n",
       "      <td>-0.2140</td>\n",
       "      <td>-0.3520</td>\n",
       "      <td>-0.7340</td>\n",
       "      <td>0.5350</td>\n",
       "      <td>-0.2570</td>\n",
       "      <td>0.927</td>\n",
       "      <td>-0.0843</td>\n",
       "      <td>-0.657</td>\n",
       "      <td>0.267</td>\n",
       "      <td>0.188</td>\n",
       "    </tr>\n",
       "    <tr>\n",
       "      <th>3608</th>\n",
       "      <td>10281</td>\n",
       "      <td>WALKING_DOWNSTAIRS</td>\n",
       "      <td>0.393</td>\n",
       "      <td>-0.01780</td>\n",
       "      <td>-0.0902</td>\n",
       "      <td>-0.0963</td>\n",
       "      <td>-0.1740</td>\n",
       "      <td>-0.257</td>\n",
       "      <td>-0.153</td>\n",
       "      <td>-0.2080</td>\n",
       "      <td>...</td>\n",
       "      <td>0.0894</td>\n",
       "      <td>0.2740</td>\n",
       "      <td>-0.0368</td>\n",
       "      <td>-0.7430</td>\n",
       "      <td>-0.0802</td>\n",
       "      <td>0.927</td>\n",
       "      <td>-0.6520</td>\n",
       "      <td>-0.807</td>\n",
       "      <td>0.190</td>\n",
       "      <td>0.118</td>\n",
       "    </tr>\n",
       "  </tbody>\n",
       "</table>\n",
       "<p>10 rows × 563 columns</p>\n",
       "</div>"
      ],
      "text/plain": [
       "         rn            activity  tBodyAcc.mean.X  tBodyAcc.mean.Y  \\\n",
       "3599  10262    WALKING_UPSTAIRS            0.260         -0.03080   \n",
       "3600  10264    WALKING_UPSTAIRS            0.364         -0.06570   \n",
       "3601  10265    WALKING_UPSTAIRS            0.315          0.02320   \n",
       "3602  10268    WALKING_UPSTAIRS            0.302          0.00926   \n",
       "3603  10274    WALKING_UPSTAIRS            0.144         -0.03990   \n",
       "3604  10277    WALKING_UPSTAIRS            0.357         -0.04460   \n",
       "3605  10278    WALKING_UPSTAIRS            0.344          0.00479   \n",
       "3606  10279    WALKING_UPSTAIRS            0.284         -0.00796   \n",
       "3607  10280    WALKING_UPSTAIRS            0.207          0.02460   \n",
       "3608  10281  WALKING_DOWNSTAIRS            0.393         -0.01780   \n",
       "\n",
       "      tBodyAcc.mean.Z  tBodyAcc.std.X  tBodyAcc.std.Y  tBodyAcc.std.Z  \\\n",
       "3599          -0.0957         -0.3110         -0.1920          -0.254   \n",
       "3600          -0.0854         -0.3590         -0.1130          -0.318   \n",
       "3601          -0.1440         -0.3100         -0.1580          -0.326   \n",
       "3602          -0.1630         -0.3310         -0.0371          -0.245   \n",
       "3603          -0.0451         -0.3550         -0.0158          -0.233   \n",
       "3604          -0.1300         -0.3140         -0.0556          -0.173   \n",
       "3605          -0.1220         -0.3200         -0.0667          -0.182   \n",
       "3606          -0.1190         -0.3090         -0.0804          -0.211   \n",
       "3607          -0.1040         -0.3650         -0.1690          -0.216   \n",
       "3608          -0.0902         -0.0963         -0.1740          -0.257   \n",
       "\n",
       "      tBodyAcc.mad.X  tBodyAcc.mad.Y  ...  fBodyBodyGyroJerkMag.meanFreq  \\\n",
       "3599          -0.402         -0.2250  ...                         0.1190   \n",
       "3600          -0.405         -0.1860  ...                         0.2070   \n",
       "3601          -0.379         -0.2140  ...                         0.2300   \n",
       "3602          -0.391         -0.0685  ...                        -0.1350   \n",
       "3603          -0.465         -0.0364  ...                        -0.1440   \n",
       "3604          -0.386         -0.0575  ...                         0.0168   \n",
       "3605          -0.380         -0.0710  ...                        -0.0292   \n",
       "3606          -0.369         -0.0971  ...                        -0.1100   \n",
       "3607          -0.449         -0.1860  ...                        -0.2140   \n",
       "3608          -0.153         -0.2080  ...                         0.0894   \n",
       "\n",
       "      fBodyBodyGyroJerkMag.skewness  fBodyBodyGyroJerkMag.kurtosis  \\\n",
       "3599                        -0.0312                        -0.4030   \n",
       "3600                        -0.3730                        -0.7490   \n",
       "3601                        -0.5230                        -0.8440   \n",
       "3602                        -0.3180                        -0.6800   \n",
       "3603                        -0.3750                        -0.7800   \n",
       "3604                        -0.1630                        -0.5930   \n",
       "3605                         0.1810                        -0.2500   \n",
       "3606                         0.0245                        -0.3930   \n",
       "3607                        -0.3520                        -0.7340   \n",
       "3608                         0.2740                        -0.0368   \n",
       "\n",
       "      angle.tBodyAccMean.gravity  angle.tBodyAccJerkMean.gravityMean  \\\n",
       "3599                      0.2030                              0.9010   \n",
       "3600                     -0.4750                             -0.0585   \n",
       "3601                     -0.0873                             -0.5530   \n",
       "3602                     -0.1370                              0.8100   \n",
       "3603                      0.5560                             -0.2060   \n",
       "3604                     -0.7110                             -0.0612   \n",
       "3605                     -0.4030                             -0.7060   \n",
       "3606                     -0.0761                             -0.2390   \n",
       "3607                      0.5350                             -0.2570   \n",
       "3608                     -0.7430                             -0.0802   \n",
       "\n",
       "      angle.tBodyGyroMean.gravityMean  angle.tBodyGyroJerkMean.gravityMean  \\\n",
       "3599                           -0.936                               0.4900   \n",
       "3600                           -0.948                               0.7880   \n",
       "3601                           -0.830                               0.7010   \n",
       "3602                            0.932                               0.3550   \n",
       "3603                           -0.944                               0.2980   \n",
       "3604                           -0.706                               0.0646   \n",
       "3605                            0.739                               0.8710   \n",
       "3606                            0.960                               0.0866   \n",
       "3607                            0.927                              -0.0843   \n",
       "3608                            0.927                              -0.6520   \n",
       "\n",
       "      angle.X.gravityMean  angle.Y.gravityMean  angle.Z.gravityMean  \n",
       "3599               -0.693                0.255                0.165  \n",
       "3600               -0.683                0.272                0.153  \n",
       "3601               -0.666                0.288                0.151  \n",
       "3602               -0.659                0.274                0.178  \n",
       "3603               -0.661                0.271                0.180  \n",
       "3604               -0.660                0.274                0.176  \n",
       "3605               -0.653                0.278                0.180  \n",
       "3606               -0.657                0.272                0.183  \n",
       "3607               -0.657                0.267                0.188  \n",
       "3608               -0.807                0.190                0.118  \n",
       "\n",
       "[10 rows x 563 columns]"
      ]
     },
     "execution_count": 122,
     "metadata": {},
     "output_type": "execute_result"
    }
   ],
   "source": [
    "Data1.tail(10)"
   ]
  },
  {
   "cell_type": "code",
   "execution_count": 123,
   "metadata": {},
   "outputs": [
    {
     "data": {
      "text/plain": [
       "(3609, 563)"
      ]
     },
     "execution_count": 123,
     "metadata": {},
     "output_type": "execute_result"
    }
   ],
   "source": [
    "Data1.shape"
   ]
  },
  {
   "cell_type": "code",
   "execution_count": 124,
   "metadata": {},
   "outputs": [
    {
     "name": "stdout",
     "output_type": "stream",
     "text": [
      "Activity labels: ['STANDING', 'SITTING', 'LAYING', 'WALKING', 'WALKING_DOWNSTAIRS', 'WALKING_UPSTAIRS']\n"
     ]
    }
   ],
   "source": [
    "#save labels as string\n",
    "Labels = Data1['activity']\n",
    "Data = Data1.drop(['rn', 'activity'], axis = 1)\n",
    "Labels_keys = Labels.unique().tolist()\n",
    "Labels = np.array(Labels)\n",
    "print('Activity labels: ' + str(Labels_keys))"
   ]
  },
  {
   "cell_type": "code",
   "execution_count": 125,
   "metadata": {},
   "outputs": [
    {
     "name": "stdout",
     "output_type": "stream",
     "text": [
      "Amount of rows with missing values: 0\n"
     ]
    }
   ],
   "source": [
    "#check for missing values\n",
    "Temp = pd.DataFrame(Data.isnull().sum())\n",
    "Temp.columns = ['Sum']\n",
    "print('Amount of rows with missing values: ' + str(len(Temp.index[Temp['Sum'] > 0])) )"
   ]
  },
  {
   "cell_type": "code",
   "execution_count": 126,
   "metadata": {},
   "outputs": [],
   "source": [
    "#normalize the dataset\n",
    "scaler = StandardScaler()\n",
    "Data_norm = scaler.fit_transform(Data)"
   ]
  },
  {
   "cell_type": "code",
   "execution_count": 127,
   "metadata": {},
   "outputs": [
    {
     "data": {
      "image/png": "[encoded data removed]",
      "text/plain": [
       "<Figure size 576x360 with 1 Axes>"
      ]
     },
     "metadata": {
      "needs_background": "light"
     },
     "output_type": "display_data"
    }
   ],
   "source": [
    "#check the optimal k value\n",
    "ks = range(1, 10)\n",
    "inertias = []\n",
    "\n",
    "for k in ks:\n",
    "    model = KMeans(n_clusters=k)\n",
    "    model.fit(Data_norm)\n",
    "    inertias.append(model.inertia_)\n",
    "\n",
    "plt.figure(figsize=(8,5))\n",
    "plt.style.use('bmh')\n",
    "plt.plot(ks, inertias, '-o')\n",
    "plt.xlabel('Number of clusters, k')\n",
    "plt.ylabel('Inertia')\n",
    "plt.xticks(ks)\n",
    "plt.show()"
   ]
  },
  {
   "cell_type": "markdown",
   "metadata": {},
   "source": [
    "The best value for k(\"elbow\" of the line) is 2 (two clusters)."
   ]
  },
  {
   "cell_type": "code",
   "execution_count": 128,
   "metadata": {},
   "outputs": [],
   "source": [
    "def k_means(n_clust, data_frame, true_labels):\n",
    "    \"\"\"\n",
    "    Function k_means applies k-means clustering alrorithm on dataset and prints the crosstab of cluster and actual labels \n",
    "    and clustering performance parameters.\n",
    "    \n",
    "    Input:\n",
    "    n_clust - number of clusters (k value)\n",
    "    data_frame - dataset we want to cluster\n",
    "    true_labels - original labels\n",
    "    \n",
    "    Output:\n",
    "    1 - crosstab of cluster and actual labels\n",
    "    2 - performance table\n",
    "    \"\"\"\n",
    "    k_means = KMeans(n_clusters = n_clust, random_state=123, n_init=30)\n",
    "    k_means.fit(data_frame)\n",
    "    c_labels = k_means.labels_\n",
    "    df = pd.DataFrame({'clust_label': c_labels, 'orig_label': true_labels.tolist()})\n",
    "    ct = pd.crosstab(df['clust_label'], df['orig_label'])\n",
    "    y_clust = k_means.predict(data_frame)\n",
    "    display(ct)\n",
    "    print('% 9s' % 'inertia  homo    compl   v-meas   ARI     AMI     silhouette')\n",
    "    print('%i   %.3f   %.3f   %.3f   %.3f   %.3f    %.3f'\n",
    "      %(k_means.inertia_,\n",
    "      homogeneity_score(true_labels, y_clust),\n",
    "      completeness_score(true_labels, y_clust),\n",
    "      v_measure_score(true_labels, y_clust),\n",
    "      adjusted_rand_score(true_labels, y_clust),\n",
    "      adjusted_mutual_info_score(true_labels, y_clust),\n",
    "      silhouette_score(data_frame, y_clust, metric='euclidean')))"
   ]
  },
  {
   "cell_type": "code",
   "execution_count": 129,
   "metadata": {},
   "outputs": [
    {
     "data": {
      "text/html": [
       "<div>\n",
       "<style scoped>\n",
       "    .dataframe tbody tr th:only-of-type {\n",
       "        vertical-align: middle;\n",
       "    }\n",
       "\n",
       "    .dataframe tbody tr th {\n",
       "        vertical-align: top;\n",
       "    }\n",
       "\n",
       "    .dataframe thead th {\n",
       "        text-align: right;\n",
       "    }\n",
       "</style>\n",
       "<table border=\"1\" class=\"dataframe\">\n",
       "  <thead>\n",
       "    <tr style=\"text-align: right;\">\n",
       "      <th>orig_label</th>\n",
       "      <th>LAYING</th>\n",
       "      <th>SITTING</th>\n",
       "      <th>STANDING</th>\n",
       "      <th>WALKING</th>\n",
       "      <th>WALKING_DOWNSTAIRS</th>\n",
       "      <th>WALKING_UPSTAIRS</th>\n",
       "    </tr>\n",
       "    <tr>\n",
       "      <th>clust_label</th>\n",
       "      <th></th>\n",
       "      <th></th>\n",
       "      <th></th>\n",
       "      <th></th>\n",
       "      <th></th>\n",
       "      <th></th>\n",
       "    </tr>\n",
       "  </thead>\n",
       "  <tbody>\n",
       "    <tr>\n",
       "      <th>0</th>\n",
       "      <td>680</td>\n",
       "      <td>622</td>\n",
       "      <td>668</td>\n",
       "      <td>0</td>\n",
       "      <td>0</td>\n",
       "      <td>6</td>\n",
       "    </tr>\n",
       "    <tr>\n",
       "      <th>1</th>\n",
       "      <td>1</td>\n",
       "      <td>1</td>\n",
       "      <td>0</td>\n",
       "      <td>603</td>\n",
       "      <td>493</td>\n",
       "      <td>535</td>\n",
       "    </tr>\n",
       "  </tbody>\n",
       "</table>\n",
       "</div>"
      ],
      "text/plain": [
       "orig_label   LAYING  SITTING  STANDING  WALKING  WALKING_DOWNSTAIRS  \\\n",
       "clust_label                                                           \n",
       "0               680      622       668        0                   0   \n",
       "1                 1        1         0      603                 493   \n",
       "\n",
       "orig_label   WALKING_UPSTAIRS  \n",
       "clust_label                    \n",
       "0                           6  \n",
       "1                         535  "
      ]
     },
     "metadata": {},
     "output_type": "display_data"
    },
    {
     "name": "stdout",
     "output_type": "stream",
     "text": [
      "inertia  homo    compl   v-meas   ARI     AMI     silhouette\n",
      "1156484   0.378   0.981   0.546   0.329   0.546    0.390\n"
     ]
    }
   ],
   "source": [
    "k_means(n_clust=2, data_frame=Data_norm, true_labels=Labels)"
   ]
  },
  {
   "cell_type": "code",
   "execution_count": 130,
   "metadata": {},
   "outputs": [
    {
     "data": {
      "text/html": [
       "<div>\n",
       "<style scoped>\n",
       "    .dataframe tbody tr th:only-of-type {\n",
       "        vertical-align: middle;\n",
       "    }\n",
       "\n",
       "    .dataframe tbody tr th {\n",
       "        vertical-align: top;\n",
       "    }\n",
       "\n",
       "    .dataframe thead th {\n",
       "        text-align: right;\n",
       "    }\n",
       "</style>\n",
       "<table border=\"1\" class=\"dataframe\">\n",
       "  <thead>\n",
       "    <tr style=\"text-align: right;\">\n",
       "      <th>orig_label</th>\n",
       "      <th>LAYING</th>\n",
       "      <th>SITTING</th>\n",
       "      <th>STANDING</th>\n",
       "      <th>WALKING</th>\n",
       "      <th>WALKING_DOWNSTAIRS</th>\n",
       "      <th>WALKING_UPSTAIRS</th>\n",
       "    </tr>\n",
       "    <tr>\n",
       "      <th>clust_label</th>\n",
       "      <th></th>\n",
       "      <th></th>\n",
       "      <th></th>\n",
       "      <th></th>\n",
       "      <th></th>\n",
       "      <th></th>\n",
       "    </tr>\n",
       "  </thead>\n",
       "  <tbody>\n",
       "    <tr>\n",
       "      <th>0</th>\n",
       "      <td>554</td>\n",
       "      <td>24</td>\n",
       "      <td>0</td>\n",
       "      <td>0</td>\n",
       "      <td>0</td>\n",
       "      <td>0</td>\n",
       "    </tr>\n",
       "    <tr>\n",
       "      <th>1</th>\n",
       "      <td>0</td>\n",
       "      <td>0</td>\n",
       "      <td>0</td>\n",
       "      <td>248</td>\n",
       "      <td>311</td>\n",
       "      <td>97</td>\n",
       "    </tr>\n",
       "    <tr>\n",
       "      <th>2</th>\n",
       "      <td>1</td>\n",
       "      <td>0</td>\n",
       "      <td>0</td>\n",
       "      <td>329</td>\n",
       "      <td>107</td>\n",
       "      <td>438</td>\n",
       "    </tr>\n",
       "    <tr>\n",
       "      <th>3</th>\n",
       "      <td>106</td>\n",
       "      <td>157</td>\n",
       "      <td>188</td>\n",
       "      <td>0</td>\n",
       "      <td>0</td>\n",
       "      <td>2</td>\n",
       "    </tr>\n",
       "    <tr>\n",
       "      <th>4</th>\n",
       "      <td>0</td>\n",
       "      <td>0</td>\n",
       "      <td>0</td>\n",
       "      <td>26</td>\n",
       "      <td>75</td>\n",
       "      <td>4</td>\n",
       "    </tr>\n",
       "    <tr>\n",
       "      <th>5</th>\n",
       "      <td>20</td>\n",
       "      <td>442</td>\n",
       "      <td>480</td>\n",
       "      <td>0</td>\n",
       "      <td>0</td>\n",
       "      <td>0</td>\n",
       "    </tr>\n",
       "  </tbody>\n",
       "</table>\n",
       "</div>"
      ],
      "text/plain": [
       "orig_label   LAYING  SITTING  STANDING  WALKING  WALKING_DOWNSTAIRS  \\\n",
       "clust_label                                                           \n",
       "0               554       24         0        0                   0   \n",
       "1                 0        0         0      248                 311   \n",
       "2                 1        0         0      329                 107   \n",
       "3               106      157       188        0                   0   \n",
       "4                 0        0         0       26                  75   \n",
       "5                20      442       480        0                   0   \n",
       "\n",
       "orig_label   WALKING_UPSTAIRS  \n",
       "clust_label                    \n",
       "0                           0  \n",
       "1                          97  \n",
       "2                         438  \n",
       "3                           2  \n",
       "4                           4  \n",
       "5                           0  "
      ]
     },
     "metadata": {},
     "output_type": "display_data"
    },
    {
     "name": "stdout",
     "output_type": "stream",
     "text": [
      "inertia  homo    compl   v-meas   ARI     AMI     silhouette\n",
      "895968   0.547   0.588   0.566   0.429   0.566    0.112\n"
     ]
    }
   ],
   "source": [
    "k_means(n_clust=6, data_frame=Data_norm, true_labels=Labels)"
   ]
  },
  {
   "cell_type": "code",
   "execution_count": 131,
   "metadata": {},
   "outputs": [],
   "source": [
    "#change labels into binary: 0 - not moving, 1 - moving\n",
    "Labels_binary = Labels.copy()\n",
    "for i in range(len(Labels_binary)):\n",
    "    if (Labels_binary[i] == 'STANDING' or Labels_binary[i] == 'SITTING' or Labels_binary[i] == 'LAYING'):\n",
    "        Labels_binary[i] = 0\n",
    "    else:\n",
    "        Labels_binary[i] = 1\n",
    "Labels_binary = np.array(Labels_binary.astype(int))"
   ]
  },
  {
   "cell_type": "code",
   "execution_count": 132,
   "metadata": {},
   "outputs": [
    {
     "data": {
      "text/html": [
       "<div>\n",
       "<style scoped>\n",
       "    .dataframe tbody tr th:only-of-type {\n",
       "        vertical-align: middle;\n",
       "    }\n",
       "\n",
       "    .dataframe tbody tr th {\n",
       "        vertical-align: top;\n",
       "    }\n",
       "\n",
       "    .dataframe thead th {\n",
       "        text-align: right;\n",
       "    }\n",
       "</style>\n",
       "<table border=\"1\" class=\"dataframe\">\n",
       "  <thead>\n",
       "    <tr style=\"text-align: right;\">\n",
       "      <th>orig_label</th>\n",
       "      <th>0</th>\n",
       "      <th>1</th>\n",
       "    </tr>\n",
       "    <tr>\n",
       "      <th>clust_label</th>\n",
       "      <th></th>\n",
       "      <th></th>\n",
       "    </tr>\n",
       "  </thead>\n",
       "  <tbody>\n",
       "    <tr>\n",
       "      <th>0</th>\n",
       "      <td>2</td>\n",
       "      <td>1631</td>\n",
       "    </tr>\n",
       "    <tr>\n",
       "      <th>1</th>\n",
       "      <td>1970</td>\n",
       "      <td>6</td>\n",
       "    </tr>\n",
       "  </tbody>\n",
       "</table>\n",
       "</div>"
      ],
      "text/plain": [
       "orig_label      0     1\n",
       "clust_label            \n",
       "0               2  1631\n",
       "1            1970     6"
      ]
     },
     "metadata": {},
     "output_type": "display_data"
    },
    {
     "name": "stdout",
     "output_type": "stream",
     "text": [
      "inertia  homo    compl   v-meas   ARI     AMI     silhouette\n",
      "1156484   0.977   0.978   0.978   0.991   0.978    0.390\n"
     ]
    }
   ],
   "source": [
    "k_means(n_clust=2, data_frame=Data_norm, true_labels=Labels_binary)"
   ]
  },
  {
   "cell_type": "code",
   "execution_count": 133,
   "metadata": {},
   "outputs": [
    {
     "data": {
      "image/png": "[encoded data removed]",
      "text/plain": [
       "<Figure size 576x288 with 1 Axes>"
      ]
     },
     "metadata": {
      "needs_background": "light"
     },
     "output_type": "display_data"
    }
   ],
   "source": [
    "#check for optimal number of features\n",
    "pca = PCA(random_state=123)\n",
    "pca.fit(Data_norm)\n",
    "features = range(pca.n_components_)\n",
    "\n",
    "plt.figure(figsize=(8,4))\n",
    "plt.bar(features[:15], pca.explained_variance_[:15], color='lightskyblue')\n",
    "plt.xlabel('PCA feature')\n",
    "plt.ylabel('Variance')\n",
    "plt.xticks(features[:15])\n",
    "plt.show()\n",
    "\n"
   ]
  },
  {
   "cell_type": "code",
   "execution_count": 134,
   "metadata": {},
   "outputs": [],
   "source": [
    "def pca_transform(n_comp):\n",
    "    pca = PCA(n_components=n_comp, random_state=123)\n",
    "    global Data_reduced\n",
    "    Data_reduced = pca.fit_transform(Data_norm)\n",
    "    print('Shape of the new Data df: ' + str(Data_reduced.shape))"
   ]
  },
  {
   "cell_type": "code",
   "execution_count": 135,
   "metadata": {},
   "outputs": [
    {
     "name": "stdout",
     "output_type": "stream",
     "text": [
      "Shape of the new Data df: (3609, 3)\n"
     ]
    },
    {
     "data": {
      "text/html": [
       "<div>\n",
       "<style scoped>\n",
       "    .dataframe tbody tr th:only-of-type {\n",
       "        vertical-align: middle;\n",
       "    }\n",
       "\n",
       "    .dataframe tbody tr th {\n",
       "        vertical-align: top;\n",
       "    }\n",
       "\n",
       "    .dataframe thead th {\n",
       "        text-align: right;\n",
       "    }\n",
       "</style>\n",
       "<table border=\"1\" class=\"dataframe\">\n",
       "  <thead>\n",
       "    <tr style=\"text-align: right;\">\n",
       "      <th>orig_label</th>\n",
       "      <th>LAYING</th>\n",
       "      <th>SITTING</th>\n",
       "      <th>STANDING</th>\n",
       "      <th>WALKING</th>\n",
       "      <th>WALKING_DOWNSTAIRS</th>\n",
       "      <th>WALKING_UPSTAIRS</th>\n",
       "    </tr>\n",
       "    <tr>\n",
       "      <th>clust_label</th>\n",
       "      <th></th>\n",
       "      <th></th>\n",
       "      <th></th>\n",
       "      <th></th>\n",
       "      <th></th>\n",
       "      <th></th>\n",
       "    </tr>\n",
       "  </thead>\n",
       "  <tbody>\n",
       "    <tr>\n",
       "      <th>0</th>\n",
       "      <td>680</td>\n",
       "      <td>622</td>\n",
       "      <td>668</td>\n",
       "      <td>0</td>\n",
       "      <td>0</td>\n",
       "      <td>6</td>\n",
       "    </tr>\n",
       "    <tr>\n",
       "      <th>1</th>\n",
       "      <td>1</td>\n",
       "      <td>1</td>\n",
       "      <td>0</td>\n",
       "      <td>603</td>\n",
       "      <td>493</td>\n",
       "      <td>535</td>\n",
       "    </tr>\n",
       "  </tbody>\n",
       "</table>\n",
       "</div>"
      ],
      "text/plain": [
       "orig_label   LAYING  SITTING  STANDING  WALKING  WALKING_DOWNSTAIRS  \\\n",
       "clust_label                                                           \n",
       "0               680      622       668        0                   0   \n",
       "1                 1        1         0      603                 493   \n",
       "\n",
       "orig_label   WALKING_UPSTAIRS  \n",
       "clust_label                    \n",
       "0                           6  \n",
       "1                         535  "
      ]
     },
     "metadata": {},
     "output_type": "display_data"
    },
    {
     "name": "stdout",
     "output_type": "stream",
     "text": [
      "inertia  homo    compl   v-meas   ARI     AMI     silhouette\n",
      "349388   0.378   0.981   0.546   0.329   0.546    0.662\n"
     ]
    }
   ],
   "source": [
    "pca_transform(n_comp=3)\n",
    "k_means(n_clust=2, data_frame=Data_reduced, true_labels=Labels)"
   ]
  },
  {
   "cell_type": "code",
   "execution_count": 136,
   "metadata": {},
   "outputs": [
    {
     "data": {
      "image/png": "[encoded data removed]",
      "text/plain": [
       "<Figure size 864x576 with 1 Axes>"
      ]
     },
     "metadata": {
      "needs_background": "light"
     },
     "output_type": "display_data"
    }
   ],
   "source": [
    "colors = ['green', 'blue', 'orange', 'gray', 'pink', 'red']\n",
    "fig = plt.figure(figsize=(12,8))\n",
    "ax = fig.add_subplot(111, projection='3d')\n",
    "for i in range(len(colors)):\n",
    "    x = Data_reduced[:, 0][Labels == Labels_keys[i]]\n",
    "    y = Data_reduced[:, 1][Labels == Labels_keys[i]]\n",
    "    z = Data_reduced[:, 2][Labels == Labels_keys[i]]\n",
    "    ax.scatter(xs=x, ys=y, zs=z, zdir='y', s=20, c=colors[i], alpha=0.2)\n",
    "\n",
    "ax.set_xlabel('First Principal Component')\n",
    "ax.set_ylabel('Second Principal Component')\n",
    "ax.set_zlabel('Third Principal Component')\n",
    "ax.set_title(\"PCA Scatter Plot\")\n",
    "plt.show()"
   ]
  },
  {
   "cell_type": "code",
   "execution_count": 137,
   "metadata": {},
   "outputs": [
    {
     "name": "stdout",
     "output_type": "stream",
     "text": [
      "Shape of the new Data df: (3609, 1)\n"
     ]
    },
    {
     "data": {
      "text/html": [
       "<div>\n",
       "<style scoped>\n",
       "    .dataframe tbody tr th:only-of-type {\n",
       "        vertical-align: middle;\n",
       "    }\n",
       "\n",
       "    .dataframe tbody tr th {\n",
       "        vertical-align: top;\n",
       "    }\n",
       "\n",
       "    .dataframe thead th {\n",
       "        text-align: right;\n",
       "    }\n",
       "</style>\n",
       "<table border=\"1\" class=\"dataframe\">\n",
       "  <thead>\n",
       "    <tr style=\"text-align: right;\">\n",
       "      <th>orig_label</th>\n",
       "      <th>0</th>\n",
       "      <th>1</th>\n",
       "    </tr>\n",
       "    <tr>\n",
       "      <th>clust_label</th>\n",
       "      <th></th>\n",
       "      <th></th>\n",
       "    </tr>\n",
       "  </thead>\n",
       "  <tbody>\n",
       "    <tr>\n",
       "      <th>0</th>\n",
       "      <td>1</td>\n",
       "      <td>1629</td>\n",
       "    </tr>\n",
       "    <tr>\n",
       "      <th>1</th>\n",
       "      <td>1971</td>\n",
       "      <td>8</td>\n",
       "    </tr>\n",
       "  </tbody>\n",
       "</table>\n",
       "</div>"
      ],
      "text/plain": [
       "orig_label      0     1\n",
       "clust_label            \n",
       "0               1  1629\n",
       "1            1971     8"
      ]
     },
     "metadata": {},
     "output_type": "display_data"
    },
    {
     "name": "stdout",
     "output_type": "stream",
     "text": [
      "inertia  homo    compl   v-meas   ARI     AMI     silhouette\n",
      "168716   0.976   0.976   0.976   0.990   0.976    0.794\n"
     ]
    }
   ],
   "source": [
    "pca_transform(n_comp=1)\n",
    "k_means(n_clust=2, data_frame=Data_reduced, true_labels=Labels_binary)"
   ]
  },
  {
   "cell_type": "code",
   "execution_count": 138,
   "metadata": {},
   "outputs": [
    {
     "name": "stdout",
     "output_type": "stream",
     "text": [
      "Shape of the new Data df: (3609, 2)\n"
     ]
    },
    {
     "data": {
      "text/html": [
       "<div>\n",
       "<style scoped>\n",
       "    .dataframe tbody tr th:only-of-type {\n",
       "        vertical-align: middle;\n",
       "    }\n",
       "\n",
       "    .dataframe tbody tr th {\n",
       "        vertical-align: top;\n",
       "    }\n",
       "\n",
       "    .dataframe thead th {\n",
       "        text-align: right;\n",
       "    }\n",
       "</style>\n",
       "<table border=\"1\" class=\"dataframe\">\n",
       "  <thead>\n",
       "    <tr style=\"text-align: right;\">\n",
       "      <th>orig_label</th>\n",
       "      <th>0</th>\n",
       "      <th>1</th>\n",
       "    </tr>\n",
       "    <tr>\n",
       "      <th>clust_label</th>\n",
       "      <th></th>\n",
       "      <th></th>\n",
       "    </tr>\n",
       "  </thead>\n",
       "  <tbody>\n",
       "    <tr>\n",
       "      <th>0</th>\n",
       "      <td>3</td>\n",
       "      <td>1631</td>\n",
       "    </tr>\n",
       "    <tr>\n",
       "      <th>1</th>\n",
       "      <td>1969</td>\n",
       "      <td>6</td>\n",
       "    </tr>\n",
       "  </tbody>\n",
       "</table>\n",
       "</div>"
      ],
      "text/plain": [
       "orig_label      0     1\n",
       "clust_label            \n",
       "0               3  1631\n",
       "1            1969     6"
      ]
     },
     "metadata": {},
     "output_type": "display_data"
    },
    {
     "name": "stdout",
     "output_type": "stream",
     "text": [
      "inertia  homo    compl   v-meas   ARI     AMI     silhouette\n",
      "295754   0.975   0.975   0.975   0.990   0.975    0.694\n"
     ]
    }
   ],
   "source": [
    "pca_transform(n_comp=2)\n",
    "k_means(n_clust=2, data_frame=Data_reduced, true_labels=Labels_binary)"
   ]
  },
  {
   "cell_type": "code",
   "execution_count": 160,
   "metadata": {},
   "outputs": [],
   "source": [
    "from sklearn.manifold import TSNE\n",
    "import seaborn as sns"
   ]
  },
  {
   "cell_type": "code",
   "execution_count": 161,
   "metadata": {},
   "outputs": [
    {
     "ename": "SyntaxError",
     "evalue": "invalid syntax (<ipython-input-161-22bf3694e683>, line 10)",
     "output_type": "error",
     "traceback": [
      "\u001b[0;36m  File \u001b[0;32m\"<ipython-input-161-22bf3694e683>\"\u001b[0;36m, line \u001b[0;32m10\u001b[0m\n\u001b[0;31m    sns.FacetGrid(tsne_df, hue = \"label\",size = 6).map(plt.scatter,\"a\",\"b\").add_legend()\u001b[0m\n\u001b[0m    ^\u001b[0m\n\u001b[0;31mSyntaxError\u001b[0m\u001b[0;31m:\u001b[0m invalid syntax\n"
     ]
    }
   ],
   "source": [
    "data_1000 = Data_norm[0:1000,:]\n",
    "labels_1000 = labels[0:10000]\n",
    "\n",
    "model = TSNE(n_components = 2, random_state=0)\n",
    "tsne_data = model.fit_transform(data_1000)\n",
    "\n",
    "tsne_data = no.vstack((tsne_data, labels_1000)).T\n",
    "tsne_df = pd.DataFrame(data=tsne_data, columns=(\"a\",\"b\",\"c\")\n",
    "                       \n",
    "sns.FacetGrid(tsne_df, hue = \"label\",size = 6).map(plt.scatter,\"a\",\"b\").add_legend()\n",
    "#plt.title('with perplexity = 50')\n",
    "plt.show()"
   ]
  },
  {
   "cell_type": "code",
   "execution_count": null,
   "metadata": {},
   "outputs": [],
   "source": []
  }
 ],
 "metadata": {
  "kernelspec": {
   "display_name": "Python 3",
   "language": "python",
   "name": "python3"
  },
  "language_info": {
   "codemirror_mode": {
    "name": "ipython",
    "version": 3
   },
   "file_extension": ".py",
   "mimetype": "text/x-python",
   "name": "python",
   "nbconvert_exporter": "python",
   "pygments_lexer": "ipython3",
   "version": "3.8.3"
  }
 },
 "nbformat": 4,
 "nbformat_minor": 4
}
